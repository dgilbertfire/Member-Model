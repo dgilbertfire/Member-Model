{
 "cells": [
  {
   "cell_type": "code",
   "execution_count": 10,
   "metadata": {},
   "outputs": [],
   "source": [
    "import snowflake.connector\n",
    "import pandas as pd\n",
    "from tqdm import tqdm"
   ]
  },
  {
   "cell_type": "code",
   "execution_count": 11,
   "metadata": {},
   "outputs": [],
   "source": [
    "conn = snowflake.connector.Connect(user='ANALYST', password='Fedewap2023!', account='rl43903.east-us-2.azure')"
   ]
  },
  {
   "cell_type": "code",
   "execution_count": 19,
   "metadata": {},
   "outputs": [],
   "source": [
    "# Edit the filename in read_csv\n",
    "requests = pd.read_csv(\"GDPR_Nov_13_GDPR.csv\")\n",
    "emails = requests['From']"
   ]
  },
  {
   "cell_type": "code",
   "execution_count": 20,
   "metadata": {},
   "outputs": [],
   "source": [
    "# queries a table to see if email is present\n",
    "def query_table(email, table, column):\n",
    "    query = f\"SELECT COUNT(*) FROM {table} WHERE lower({column}) = '{email}'\"\n",
    "    cur = conn.cursor().execute(query)\n",
    "    result = cur.fetchone()\n",
    "    cur.close()\n",
    "    return result[0] > 0"
   ]
  },
  {
   "cell_type": "code",
   "execution_count": 21,
   "metadata": {},
   "outputs": [],
   "source": [
    "# Create dictionaries\n",
    "emails_present = {}\n",
    "# table-column mapping\n",
    "tables_columns = {\"CHICAGOFIRE_MLS.CF.IQ_CLUB_CRM_FEED_CUSTOMER\": \"email_address\",\n",
    "          \"CHICAGOFIRE_DATABASE.MLS.MASTER_CF\": \"email_c\", \n",
    "          \"CHICAGOFIRE_DATABASE.SALESFORCE.SF_CONTACT\": \"email\",\n",
    "          \"CHICAGOFIRE_DATABASE.ARCHTICS.CUSTOMERS_2023\" : \"email_addr\"}"
   ]
  },
  {
   "cell_type": "code",
   "execution_count": 22,
   "metadata": {},
   "outputs": [
    {
     "name": "stderr",
     "output_type": "stream",
     "text": [
      "Processing Emails: 100%|██████████| 47/47 [00:38<00:00,  1.21it/s]\n"
     ]
    }
   ],
   "source": [
    "# Iterates through the list of emails and makes a list of what emails were found where\n",
    "for email in tqdm(emails, desc = \"Processing Emails\"):\n",
    "    email = email.strip().lower()\n",
    "    tables_found = []\n",
    "    for table, column in tables_columns.items():\n",
    "        if query_table(email, table, column):\n",
    "            tables_found.append(table)\n",
    "        if tables_found:\n",
    "            emails_present[email] = tables_found"
   ]
  },
  {
   "cell_type": "code",
   "execution_count": 24,
   "metadata": {},
   "outputs": [],
   "source": [
    "conn.close()"
   ]
  },
  {
   "cell_type": "code",
   "execution_count": 23,
   "metadata": {},
   "outputs": [
    {
     "name": "stdout",
     "output_type": "stream",
     "text": [
      "teeleblanc@yahoo.com found in tables: CHICAGOFIRE_MLS.CF.IQ_CLUB_CRM_FEED_CUSTOMER, CHICAGOFIRE_DATABASE.MLS.MASTER_CF, CHICAGOFIRE_DATABASE.SALESFORCE.SF_CONTACT\n",
      "edake@structured.com found in tables: CHICAGOFIRE_MLS.CF.IQ_CLUB_CRM_FEED_CUSTOMER, CHICAGOFIRE_DATABASE.MLS.MASTER_CF, CHICAGOFIRE_DATABASE.SALESFORCE.SF_CONTACT\n",
      "francescborrull@gmail.com found in tables: CHICAGOFIRE_MLS.CF.IQ_CLUB_CRM_FEED_CUSTOMER, CHICAGOFIRE_DATABASE.MLS.MASTER_CF, CHICAGOFIRE_DATABASE.SALESFORCE.SF_CONTACT, CHICAGOFIRE_DATABASE.ARCHTICS.CUSTOMERS_2023\n",
      "manuelvillasis735@yahoo.com found in tables: CHICAGOFIRE_MLS.CF.IQ_CLUB_CRM_FEED_CUSTOMER, CHICAGOFIRE_DATABASE.MLS.MASTER_CF, CHICAGOFIRE_DATABASE.SALESFORCE.SF_CONTACT\n",
      "peter.keith.107@gmail.com found in tables: CHICAGOFIRE_MLS.CF.IQ_CLUB_CRM_FEED_CUSTOMER, CHICAGOFIRE_DATABASE.MLS.MASTER_CF, CHICAGOFIRE_DATABASE.SALESFORCE.SF_CONTACT\n",
      "jdmusic@rogers.com found in tables: CHICAGOFIRE_MLS.CF.IQ_CLUB_CRM_FEED_CUSTOMER, CHICAGOFIRE_DATABASE.MLS.MASTER_CF, CHICAGOFIRE_DATABASE.SALESFORCE.SF_CONTACT, CHICAGOFIRE_DATABASE.ARCHTICS.CUSTOMERS_2023\n",
      "patricia_mixon@bellsouth.net found in tables: CHICAGOFIRE_MLS.CF.IQ_CLUB_CRM_FEED_CUSTOMER, CHICAGOFIRE_DATABASE.MLS.MASTER_CF, CHICAGOFIRE_DATABASE.SALESFORCE.SF_CONTACT\n",
      "dinkydaisies85@yahoo.com found in tables: CHICAGOFIRE_MLS.CF.IQ_CLUB_CRM_FEED_CUSTOMER, CHICAGOFIRE_DATABASE.MLS.MASTER_CF, CHICAGOFIRE_DATABASE.SALESFORCE.SF_CONTACT\n",
      "gabemoe@gmail.com found in tables: CHICAGOFIRE_MLS.CF.IQ_CLUB_CRM_FEED_CUSTOMER, CHICAGOFIRE_DATABASE.MLS.MASTER_CF, CHICAGOFIRE_DATABASE.SALESFORCE.SF_CONTACT\n",
      "ziadsalloum@outlook.com found in tables: CHICAGOFIRE_DATABASE.SALESFORCE.SF_CONTACT\n",
      "michelldk@gmail.com found in tables: CHICAGOFIRE_MLS.CF.IQ_CLUB_CRM_FEED_CUSTOMER, CHICAGOFIRE_DATABASE.MLS.MASTER_CF, CHICAGOFIRE_DATABASE.SALESFORCE.SF_CONTACT\n",
      "barbariansblonde@gmail.com found in tables: CHICAGOFIRE_MLS.CF.IQ_CLUB_CRM_FEED_CUSTOMER, CHICAGOFIRE_DATABASE.MLS.MASTER_CF, CHICAGOFIRE_DATABASE.SALESFORCE.SF_CONTACT\n",
      "tuduri@aol.com found in tables: CHICAGOFIRE_MLS.CF.IQ_CLUB_CRM_FEED_CUSTOMER, CHICAGOFIRE_DATABASE.MLS.MASTER_CF, CHICAGOFIRE_DATABASE.SALESFORCE.SF_CONTACT\n",
      "alex.rodriguez.1219@icloud.com found in tables: CHICAGOFIRE_MLS.CF.IQ_CLUB_CRM_FEED_CUSTOMER, CHICAGOFIRE_DATABASE.MLS.MASTER_CF, CHICAGOFIRE_DATABASE.SALESFORCE.SF_CONTACT\n",
      "sjscohen@yahoo.com found in tables: CHICAGOFIRE_MLS.CF.IQ_CLUB_CRM_FEED_CUSTOMER, CHICAGOFIRE_DATABASE.MLS.MASTER_CF, CHICAGOFIRE_DATABASE.SALESFORCE.SF_CONTACT\n",
      "lammante356@gmail.com found in tables: CHICAGOFIRE_MLS.CF.IQ_CLUB_CRM_FEED_CUSTOMER, CHICAGOFIRE_DATABASE.MLS.MASTER_CF, CHICAGOFIRE_DATABASE.SALESFORCE.SF_CONTACT\n"
     ]
    }
   ],
   "source": [
    "# Returns emails and where\n",
    "for email, tables_found_in in emails_present.items():\n",
    "    print(f\"{email} found in tables: {', '.join(tables_found_in)}\")"
   ]
  }
 ],
 "metadata": {
  "kernelspec": {
   "display_name": "Python 3",
   "language": "python",
   "name": "python3"
  },
  "language_info": {
   "codemirror_mode": {
    "name": "ipython",
    "version": 3
   },
   "file_extension": ".py",
   "mimetype": "text/x-python",
   "name": "python",
   "nbconvert_exporter": "python",
   "pygments_lexer": "ipython3",
   "version": "3.10.11"
  },
  "orig_nbformat": 4
 },
 "nbformat": 4,
 "nbformat_minor": 2
}
